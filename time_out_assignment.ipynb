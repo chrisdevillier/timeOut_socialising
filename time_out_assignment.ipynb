{
 "cells": [
  {
   "cell_type": "code",
   "execution_count": 9,
   "metadata": {},
   "outputs": [],
   "source": [
    "from pyspark.sql import SparkSession,DataFrame\n",
    "from pyspark import SparkContext\n",
    "from pyspark import SparkConf\n",
    "from pyspark.sql import SQLContext\n",
    "from pyspark.sql.functions import size\n",
    "from pyspark.sql.functions import array, lit\n",
    "from pyspark.sql.functions import array_contains\n",
    "from pyspark.sql.functions import lower, col,udf\n",
    "from pyspark.sql.types import StructType\n",
    "from functools import reduce\n",
    "import sys \n",
    "from __future__ import unicode_literals"
   ]
  },
  {
   "cell_type": "code",
   "execution_count": 10,
   "metadata": {
    "collapsed": true
   },
   "outputs": [],
   "source": [
    "spark = SparkSession\\\n",
    "    .builder\\\n",
    "    .appName(\"example-spark\")\\\n",
    "    .config(\"spark.sql.crossJoin.enabled\",\"true\")\\\n",
    "    .getOrCreate()"
   ]
  },
  {
   "cell_type": "code",
   "execution_count": 11,
   "metadata": {
    "collapsed": true
   },
   "outputs": [],
   "source": [
    "sc = spark.sparkContext"
   ]
  },
  {
   "cell_type": "code",
   "execution_count": 12,
   "metadata": {
    "collapsed": true
   },
   "outputs": [],
   "source": [
    "venues = spark.read.load(\"venues.json\", format=\"json\", multiLine=True)\n",
    "users = spark.read.load(\"users.json\", format=\"json\", multiLine=True)"
   ]
  },
  {
   "cell_type": "code",
   "execution_count": 13,
   "metadata": {},
   "outputs": [
    {
     "name": "stdout",
     "output_type": "stream",
     "text": [
      "+--------------------+--------------------+--------------+\n",
      "|              drinks|                food|          name|\n",
      "+--------------------+--------------------+--------------+\n",
      "|[Soft drinks, Teq...|           [Mexican]|    El Cantina|\n",
      "|[Soft Drinks, Rum...|           [Chinese]|  Twin Dynasty|\n",
      "|[Vokda, Gin, whis...|[Eggs, Meat, Fish...| Spice of life|\n",
      "|[Vokda, Gin, Cide...|[Eggs, Meat, Fish...| The Cambridge|\n",
      "|[Beer, Cider, Sof...|          [Japanese]|      Wagamama|\n",
      "|[Beer, Cider, Sof...| [Meat, Bread, Fish]|Sultan Sofrasi|\n",
      "|[Vodka, Gin, Rum,...|[Nuts, Cheese, Fr...|  Spirit House|\n",
      "|[Beer, Cider, Sof...|[Fish, Meat, Sala...|     Tally Joe|\n",
      "|[Soft Drinks, Tea...|[Bread, Cheese, D...|      Fabrique|\n",
      "+--------------------+--------------------+--------------+\n",
      "\n"
     ]
    }
   ],
   "source": [
    "venues.show()"
   ]
  },
  {
   "cell_type": "code",
   "execution_count": 14,
   "metadata": {},
   "outputs": [
    {
     "name": "stdout",
     "output_type": "stream",
     "text": [
      "+--------------------+-------------+--------------+\n",
      "|              drinks|         name|      wont_eat|\n",
      "+--------------------+-------------+--------------+\n",
      "|[Cider, Rum, Soft...|   John Davis|        [Fish]|\n",
      "|[Tequila, Soft dr...|   Gary Jones| [Eggs, Pasta]|\n",
      "|[Vokda, Gin, Whis...|  Robert Webb|[Bread, Pasta]|\n",
      "|[Cider, Beer, Rum...|Gavin Coulson|            []|\n",
      "|  [Soft drinks, Tea]|   Alan Allen|  [Meat, Fish]|\n",
      "|[Vokda, Gin, whis...| Bobby Robson|     [Mexican]|\n",
      "|  [Beer, cider, Rum]|   David Lang|     [Chinese]|\n",
      "+--------------------+-------------+--------------+\n",
      "\n"
     ]
    }
   ],
   "source": [
    "users.show()"
   ]
  },
  {
   "cell_type": "code",
   "execution_count": 15,
   "metadata": {
    "collapsed": true
   },
   "outputs": [],
   "source": [
    "def getListOfTeamMembers():\n",
    "    team_members = []\n",
    "    try_again = False\n",
    "    start = 0\n",
    "    while try_again or start == 0:\n",
    "        text = input(\"Enter list of names separated by comma or '1' to exit: \")\n",
    "    \n",
    "        if not str(text):\n",
    "            print(\"You entered an empty value\")\n",
    "            try_again = True\n",
    "        \n",
    "        else:\n",
    "            \n",
    "            if str(text).strip() == '1':\n",
    "                print(\"Thank you for using the app\")\n",
    "                break\n",
    "            else:\n",
    "                print(\"You entered \" + str(text))\n",
    "                names = str(text).split(\",\")\n",
    "                for name in names:\n",
    "                    team_members.append(name.lower().title().strip())\n",
    "                if len(team_members)>0:\n",
    "                    print(\"{} Team members going out\".format(len(team_members)))\n",
    "                    print(\"-------------------------\")\n",
    "                    for name in team_members:\n",
    "                        print(name)\n",
    "            try_again = False\n",
    "        start +=1\n",
    "        \n",
    "        return team_members\n",
    "    "
   ]
  },
  {
   "cell_type": "code",
   "execution_count": 16,
   "metadata": {
    "collapsed": true
   },
   "outputs": [],
   "source": [
    "def unionAll(*dfs):\n",
    "    return reduce(DataFrame.unionAll, dfs)"
   ]
  },
  {
   "cell_type": "code",
   "execution_count": 47,
   "metadata": {
    "collapsed": true
   },
   "outputs": [],
   "source": [
    "def filterByFood(users,venues):\n",
    "    empty_return = None\n",
    "    names = getListOfTeamMembers()\n",
    "    if names:\n",
    "        usersFiltered = users.filter(users.name.isin(names))\n",
    "        \n",
    "        if usersFiltered.count() > 0:\n",
    "            wont_eat_foods = usersFiltered.select(usersFiltered.wont_eat,usersFiltered.name).rdd.map(lambda x: [x[0],x[1]]).collect()\n",
    "    \n",
    "            count = True\n",
    "            for foods in wont_eat_foods:\n",
    "        \n",
    "                if count:\n",
    "                    venuesFoodFiltered = venues\n",
    "                    venuesFoodRemoved = venues.filter(venues.food == array(*[lit(x) for x in foods[0]]))\n",
    "                    venuesFoodRemoved = venuesFoodRemoved.withColumn('user',lit(foods[1]))\n",
    "                    count =False\n",
    "    \n",
    "                venuesFoodRemovedTemp = venues.filter(venues.food == array(*[lit(x) for x in foods[0]]))\n",
    "                venuesFoodRemovedTemp = venuesFoodRemovedTemp.withColumn('user',lit(foods[1]))\n",
    "                venuesFoodRemoved = unionAll(venuesFoodRemoved, venuesFoodRemovedTemp)  \n",
    "                venuesFoodFiltered = venuesFoodFiltered.filter(venuesFoodFiltered.food != array(*[lit(x) for x in foods[0]]))  \n",
    "    \n",
    "            lower_udf = udf(lambda x: [str(drink).lower() for drink in x])\n",
    "            venuesFoodFiltered = venuesFoodFiltered.withColumn(\"drinks\", lower_udf(col(\"drinks\")))\n",
    "            venuesFoodRemoved = venuesFoodRemoved.withColumn(\"drinks\", lower_udf(col(\"drinks\"))).withColumn(\"removedDueTo\",lit(\"eat\"))\n",
    "            venuesFoodRemoved = venuesFoodRemoved.dropDuplicates()\n",
    "    \n",
    "            return usersFiltered,venuesFoodFiltered,venuesFoodRemoved\n",
    "        else:\n",
    "            print('User Name(s) not found')\n",
    "            return empty_return,empty_return,empty_return\n",
    "    else:\n",
    "        \n",
    "        return empty_return,empty_return,empty_return\n",
    "       "
   ]
  },
  {
   "cell_type": "code",
   "execution_count": 25,
   "metadata": {
    "collapsed": true
   },
   "outputs": [],
   "source": [
    "def filterByDrink(venuesFoodFiltered,usersFiltered):\n",
    "    allDrinks = usersFiltered.select(usersFiltered.drinks,usersFiltered.name).rdd.map(lambda x: [x[0],x[1]]).collect()    \n",
    "    count = True\n",
    "    countAll =0 \n",
    "    for drinks in allDrinks:\n",
    "        #print(\"1. {}\".format(drinks)) \n",
    "        inner_count = True\n",
    "        for drink in drinks[0]:\n",
    "            #print(\"2. {} {}\".format(drink,len(drinks[0])))\n",
    "            if count:\n",
    "            \n",
    "                venuesDrinkFilteredAll = venuesFoodFiltered.where(venuesFoodFiltered.drinks.like('%{}%'.format(drink.lower())))\n",
    "                venuesDrinkFilteredAll = venuesDrinkFilteredAll.withColumn('user',lit(drinks[1]))\n",
    "                venuesDrinkNonFiltered = venuesFoodFiltered.withColumn('user',lit(drinks[1]))\n",
    "                count = False     \n",
    "            else: \n",
    "                venuesDrinkFiltered = venuesFoodFiltered.where(venuesFoodFiltered.drinks.like('%{}%'.format(drink.lower())))\n",
    "                venuesDrinkRemovedTemp = venuesDrinkFiltered.withColumn('user',lit(drinks[1]))\n",
    "                venuesDrinkFilteredAll = unionAll(venuesDrinkFilteredAll, venuesDrinkRemovedTemp) \n",
    "                venuesDrinkFilteredAll = venuesDrinkFilteredAll.dropDuplicates()\n",
    "            if inner_count and countAll > 0:\n",
    "            \n",
    "                venuesDrinkNonFilteredTemp = venuesFoodFiltered.withColumn('user',lit(drinks[1]))\n",
    "                venuesDrinkNonFiltered = unionAll(venuesDrinkNonFiltered, venuesDrinkNonFilteredTemp)\n",
    "                inner_count = False\n",
    "        countAll +=1\n",
    "            \n",
    "    venuesDrinkRemoved = venuesDrinkNonFiltered.select('drinks','food','name','user').subtract(venuesDrinkFilteredAll.select('drinks','food','name','user'))           \n",
    "    venuesDrinkRemoved = venuesDrinkRemoved.withColumn(\"removedDueTo\",lit(\"drink\"))  \n",
    "    extraVenuesNames = [str(x.name) for x in venuesDrinkRemoved.select(venuesDrinkRemoved.name).collect()]\n",
    "    venuesDrinkFilteredAll = venuesDrinkFilteredAll.filter(~venuesDrinkFilteredAll.name.isin(extraVenuesNames))\n",
    "    \n",
    "    \n",
    "    return venuesDrinkFilteredAll,venuesDrinkRemoved"
   ]
  },
  {
   "cell_type": "code",
   "execution_count": 49,
   "metadata": {},
   "outputs": [
    {
     "name": "stdout",
     "output_type": "stream",
     "text": [
      "Enter list of names separated by comma or '1' to exit: David Lang,mmmm\n",
      "You entered David Lang,mmmm\n",
      "2 Team members going out\n",
      "----------------------\n",
      "David Lang\n",
      "Mmmm\n",
      "\n",
      " Places to go \n",
      "\n",
      "   • Spice of life \n",
      "   • Sultan Sofrasi \n",
      "   • El Cantina \n",
      "   • Spirit House \n",
      "   • The Cambridge \n",
      "   • Tally Joe \n",
      "   • Wagamama \n",
      "\n",
      " Places to avoid \n",
      "\n",
      "   • Twin Dynasty \n",
      "     ◦  There is nothing for David Lang to eat\n",
      "   • Fabrique \n",
      "     ◦  There is nothing for David Lang to drink\n"
     ]
    }
   ],
   "source": [
    "blackBulletPoint = u'\\U00002022'\n",
    "whiteBulletPoint = u'\\U000025E6'\n",
    "usersFiltered,venuesFoodFiltered,venuesFoodRemoved = filterByFood(users,venues)\n",
    "if venuesFoodFiltered and venuesFoodRemoved:\n",
    "    \n",
    "    venuesDrinkFilteredAll,venuesDrinkRemoved = filterByDrink(venuesFoodFiltered,usersFiltered)\n",
    "\n",
    "    removedVenues = unionAll(venuesFoodRemoved, venuesDrinkRemoved)\n",
    "    placesToGo = [name for name in venuesDrinkFilteredAll.drop(\"user\").dropDuplicates().select(venuesDrinkFilteredAll.name).rdd.flatMap(lambda x: x).collect()]\n",
    "    PlacesToAvoid = removedVenues.select(removedVenues.name,removedVenues.user,removedVenues.removedDueTo).rdd.map(lambda x: (x[0],x[1],x[2])).collect()\n",
    " \n",
    "    print(\"\\n Places to go \\n\")\n",
    "    for name in placesToGo :\n",
    "        print(\"   {} {} \".format(blackBulletPoint,name))\n",
    "    \n",
    "    print(\"\\n Places to avoid \\n\")\n",
    "    previousName = None\n",
    "\n",
    "    for row in PlacesToAvoid :\n",
    "        if previousName is None or (previousName != row[0]):\n",
    "        \n",
    "            print(\"   {} {} \".format(blackBulletPoint,row[0]))\n",
    "            print(\"     {}  There is nothing for {} to {}\".format(whiteBulletPoint,row[1],row[2]))\n",
    "        elif (previousName == row[0]):\n",
    "            print(\"     {}  There is nothing for {} to {}\".format(whiteBulletPoint,row[1],row[2]))\n",
    "        previousName = row[0]"
   ]
  },
  {
   "cell_type": "code",
   "execution_count": null,
   "metadata": {
    "collapsed": true
   },
   "outputs": [],
   "source": []
  }
 ],
 "metadata": {
  "kernelspec": {
   "display_name": "Python 3",
   "language": "python",
   "name": "python3"
  },
  "language_info": {
   "codemirror_mode": {
    "name": "ipython",
    "version": 3
   },
   "file_extension": ".py",
   "mimetype": "text/x-python",
   "name": "python",
   "nbconvert_exporter": "python",
   "pygments_lexer": "ipython3",
   "version": "3.6.1"
  }
 },
 "nbformat": 4,
 "nbformat_minor": 2
}
